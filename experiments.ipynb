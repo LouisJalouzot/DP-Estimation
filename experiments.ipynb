{
 "cells": [
  {
   "cell_type": "code",
   "execution_count": null,
   "metadata": {},
   "outputs": [],
   "source": [
    "from truncatedLaplace import TruncatedLaplace\n",
    "from truncatedGaussian import TruncatedGaussian\n",
    "from histogramEstimator import HistogramEstimator\n",
    "import numpy as np\n",
    "import seaborn as sns\n",
    "import plotly.express as px\n",
    "import pandas as pd\n",
    "from tqdm.auto import tqdm\n",
    "import matplotlib.pyplot as plt"
   ]
  },
  {
   "cell_type": "code",
   "execution_count": null,
   "metadata": {},
   "outputs": [],
   "source": [
    "a, b = 0, 1\n",
    "delta = 0.95\n",
    "gamma = 0.75\n",
    "laplace_parameters = [\n",
    "    (0.5, {\"D\": 9.25, \"C\": 4.63, \"epsilon\": 2.00}),\n",
    "    (0.8, {\"D\": 4.38, \"C\": 2.19, \"epsilon\": 1.25}),\n",
    "    (1.0, {\"D\": 3.16, \"C\": 1.58, \"epsilon\": 1.00}),\n",
    "    (2.0, {\"D\": 1.27, \"C\": 0.64, \"epsilon\": 0.50}),\n",
    "    (5.0, {\"D\": 0.44, \"C\": 0.22, \"epsilon\": 0.20}),\n",
    "]\n",
    "\n",
    "gaussian_parameters = [\n",
    "    (0.3, {\"D\": 7.06, \"C\": 5.40, \"epsilon\": 5.56}),\n",
    "    (0.5, {\"D\": 2.42, \"C\": 2.03, \"epsilon\": 2.00}),\n",
    "    (0.6, {\"D\": 1.62, \"C\": 1.49, \"epsilon\": 1.39}),\n",
    "    (1.0, {\"D\": 0.54, \"C\": 0.70, \"epsilon\": 0.50}),\n",
    "    (2.0, {\"D\": 0.13, \"C\": 0.23, \"epsilon\": 0.13}),\n",
    "]"
   ]
  },
  {
   "cell_type": "code",
   "execution_count": null,
   "metadata": {},
   "outputs": [],
   "source": [
    "scale, params = laplace_parameters[-3]\n",
    "laplace = TruncatedLaplace(a=a, b=b, scale=scale)\n",
    "e = HistogramEstimator(\n",
    "    mechanism=laplace,\n",
    "    a=a,\n",
    "    b=b,\n",
    "    delta=delta,\n",
    "    gamma=gamma,\n",
    "    **params\n",
    ")"
   ]
  },
  {
   "cell_type": "code",
   "execution_count": null,
   "metadata": {},
   "outputs": [],
   "source": [
    "scale, params = gaussian_parameters[-3]\n",
    "gaussian = TruncatedGaussian(a=a, b=b, scale=scale)\n",
    "e = HistogramEstimator(\n",
    "    mechanism=gaussian,\n",
    "    a=a,\n",
    "    b=b,\n",
    "    delta=delta,\n",
    "    gamma=gamma,\n",
    "    **params\n",
    ")"
   ]
  },
  {
   "cell_type": "code",
   "execution_count": null,
   "metadata": {},
   "outputs": [],
   "source": [
    "n_th = e.n\n",
    "n_list = np.logspace(1, np.log10(n_th), 10).astype(int)"
   ]
  },
  {
   "cell_type": "code",
   "execution_count": null,
   "metadata": {},
   "outputs": [],
   "source": [
    "df = []\n",
    "for n in tqdm(n_list):\n",
    "    e.n = n\n",
    "    for _ in tqdm(range(10)):\n",
    "        estimate = e.estimate(0, 1)\n",
    "        df.append([n, estimate])\n",
    "df = pd.DataFrame(df, columns=[\"n\", \"epsilon\"])"
   ]
  },
  {
   "cell_type": "code",
   "execution_count": null,
   "metadata": {},
   "outputs": [],
   "source": [
    "df[\"good_estimate\"] = abs(df.epsilon - e.epsilon) < gamma"
   ]
  },
  {
   "cell_type": "code",
   "execution_count": null,
   "metadata": {},
   "outputs": [],
   "source": [
    "n_valid = df.groupby(\"n\").good_estimate.mean()\n",
    "index = (n_valid > delta).argmax()"
   ]
  },
  {
   "cell_type": "code",
   "execution_count": null,
   "metadata": {},
   "outputs": [],
   "source": [
    "n_up = n_valid.index[index]\n",
    "n_down = n_valid.index[index-1]"
   ]
  },
  {
   "cell_type": "code",
   "execution_count": null,
   "metadata": {},
   "outputs": [],
   "source": [
    "sns.lineplot(data=df, x=\"n\", y=\"epsilon\", label=r\"Estimated $\\tilde\\epsilon$ averaged across 100 runs\")\n",
    "plt.axhspan(\n",
    "    e.epsilon - gamma,\n",
    "    e.epsilon + gamma,\n",
    "    color=\"orange\",\n",
    "    alpha=0.3,\n",
    "    label=r\"Span $\\epsilon \\pm \\gamma$\",\n",
    ")\n",
    "plt.axhline(y=e.epsilon, color=\"red\", linestyle=\"--\", label=r\"Actual $\\epsilon$\")\n",
    "practical_n = (n_up + n_down) / 2\n",
    "plt.axvline(x=practical_n, color=\"k\", linestyle=\"--\")\n",
    "plt.annotate(\n",
    "    \"Practical n\",\n",
    "    xy=(practical_n, plt.ylim()[0]),\n",
    "    xytext=(-35, 15),\n",
    "    textcoords=\"offset points\",\n",
    "    ha=\"center\",\n",
    "    va=\"top\",\n",
    ")\n",
    "plt.axvline(x=n_th, color=\"k\", linestyle=\"--\")\n",
    "plt.annotate(\n",
    "    \"Theoretical n\",\n",
    "    xy=(n_th, plt.ylim()[0]),\n",
    "    xytext=(-40, 15),\n",
    "    textcoords=\"offset points\",\n",
    "    ha=\"center\",\n",
    "    va=\"top\",\n",
    ")\n",
    "plt.xscale(\"log\")\n",
    "plt.title(\"Truncated \" + e.mechanism.__class__.__name__.replace(\"Truncated\", \"\"))\n",
    "plt.legend()"
   ]
  }
 ],
 "metadata": {
  "kernelspec": {
   "display_name": ".venv",
   "language": "python",
   "name": "python3"
  },
  "language_info": {
   "codemirror_mode": {
    "name": "ipython",
    "version": 3
   },
   "file_extension": ".py",
   "mimetype": "text/x-python",
   "name": "python",
   "nbconvert_exporter": "python",
   "pygments_lexer": "ipython3",
   "version": "3.13.0"
  }
 },
 "nbformat": 4,
 "nbformat_minor": 2
}
