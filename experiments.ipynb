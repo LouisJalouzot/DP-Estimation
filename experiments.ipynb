{
 "cells": [
  {
   "cell_type": "code",
   "execution_count": null,
   "metadata": {},
   "outputs": [],
   "source": [
    "from truncatedLaplace import TruncatedLaplace\n",
    "from truncatedGaussian import TruncatedGaussian\n",
    "from histogramEstimator import HistogramEstimator\n",
    "import numpy as np\n",
    "import seaborn as sns\n",
    "import plotly.express as px\n",
    "import pandas as pd\n",
    "from tqdm.auto import tqdm\n",
    "import matplotlib.pyplot as plt"
   ]
  },
  {
   "cell_type": "code",
   "execution_count": null,
   "metadata": {},
   "outputs": [],
   "source": [
    "a, b = 0, 1"
   ]
  },
  {
   "cell_type": "code",
   "execution_count": 50,
   "metadata": {},
   "outputs": [
    {
     "name": "stdout",
     "output_type": "stream",
     "text": [
      "TruncatedLaplace with C = 1.58, D = 3.16, delta = 0.95, gamma = 0.1:\n",
      "m = 1355, n = 9,632,745,530, k = 452\n",
      "Number of samples for one pair: 1.93e+10\n",
      "Number of samples for global estimation: 9.82e+14\n",
      "\n"
     ]
    }
   ],
   "source": [
    "laplace = TruncatedLaplace(a=a, b=b, scale=1)\n",
    "e = HistogramEstimator(\n",
    "    mechanism=laplace,\n",
    "    a=a,\n",
    "    b=b,\n",
    "    C=1.58,\n",
    "    D=3.16,\n",
    "    epsilon=1,\n",
    "    delta=0.95,\n",
    "    gamma=0.1,\n",
    ")"
   ]
  },
  {
   "cell_type": "code",
   "execution_count": 55,
   "metadata": {},
   "outputs": [
    {
     "name": "stdout",
     "output_type": "stream",
     "text": [
      "TruncatedGaussian with C = 1.49, D = 1.62, delta = 0.95, gamma = 0.1:\n",
      "m = 1052, n = 6,158,935,367, k = 191\n",
      "Number of samples for one pair: 1.23e+10\n",
      "Number of samples for global estimation: 1.12e+14\n",
      "\n"
     ]
    }
   ],
   "source": [
    "gaussian = TruncatedGaussian(a=a, b=b, scale=0.6)\n",
    "e = HistogramEstimator(\n",
    "    mechanism=gaussian,\n",
    "    a=a,\n",
    "    b=b,\n",
    "    C=1.49,\n",
    "    D=1.62,\n",
    "    epsilon=1.39,\n",
    "    delta=0.95,\n",
    "    gamma=0.1,\n",
    ")"
   ]
  },
  {
   "cell_type": "code",
   "execution_count": 56,
   "metadata": {},
   "outputs": [
    {
     "data": {
      "application/vnd.jupyter.widget-view+json": {
       "model_id": "ca206b37cad94ab8ab82c0cd86c2adf6",
       "version_major": 2,
       "version_minor": 0
      },
      "text/plain": [
       "  0%|          | 0/100 [00:00<?, ?it/s]"
      ]
     },
     "metadata": {},
     "output_type": "display_data"
    },
    {
     "data": {
      "application/vnd.jupyter.widget-view+json": {
       "model_id": "3f347b0da3ec4c4ba5db341e9ff45c47",
       "version_major": 2,
       "version_minor": 0
      },
      "text/plain": [
       "  0%|          | 0/100 [00:00<?, ?it/s]"
      ]
     },
     "metadata": {},
     "output_type": "display_data"
    },
    {
     "data": {
      "application/vnd.jupyter.widget-view+json": {
       "model_id": "a400a7e8a3ce4db382a80d1c07bc33e3",
       "version_major": 2,
       "version_minor": 0
      },
      "text/plain": [
       "  0%|          | 0/100 [00:00<?, ?it/s]"
      ]
     },
     "metadata": {},
     "output_type": "display_data"
    },
    {
     "data": {
      "application/vnd.jupyter.widget-view+json": {
       "model_id": "90d93f94b79d4e31a53a1ea4da4f0868",
       "version_major": 2,
       "version_minor": 0
      },
      "text/plain": [
       "  0%|          | 0/100 [00:00<?, ?it/s]"
      ]
     },
     "metadata": {},
     "output_type": "display_data"
    },
    {
     "data": {
      "application/vnd.jupyter.widget-view+json": {
       "model_id": "bed2af9972504985a101d67c8b02d000",
       "version_major": 2,
       "version_minor": 0
      },
      "text/plain": [
       "  0%|          | 0/100 [00:00<?, ?it/s]"
      ]
     },
     "metadata": {},
     "output_type": "display_data"
    },
    {
     "data": {
      "application/vnd.jupyter.widget-view+json": {
       "model_id": "de4ddabddf5b47aeae554038effe1ae5",
       "version_major": 2,
       "version_minor": 0
      },
      "text/plain": [
       "  0%|          | 0/100 [00:00<?, ?it/s]"
      ]
     },
     "metadata": {},
     "output_type": "display_data"
    },
    {
     "data": {
      "application/vnd.jupyter.widget-view+json": {
       "model_id": "d1619f4d1b434d738c0b637b437f31e2",
       "version_major": 2,
       "version_minor": 0
      },
      "text/plain": [
       "  0%|          | 0/100 [00:00<?, ?it/s]"
      ]
     },
     "metadata": {},
     "output_type": "display_data"
    },
    {
     "data": {
      "application/vnd.jupyter.widget-view+json": {
       "model_id": "4fe891e19cbf4e9696234e237e239bbc",
       "version_major": 2,
       "version_minor": 0
      },
      "text/plain": [
       "  0%|          | 0/100 [00:00<?, ?it/s]"
      ]
     },
     "metadata": {},
     "output_type": "display_data"
    },
    {
     "data": {
      "application/vnd.jupyter.widget-view+json": {
       "model_id": "cb14444363b74ce8bb0e44f906850e77",
       "version_major": 2,
       "version_minor": 0
      },
      "text/plain": [
       "  0%|          | 0/100 [00:00<?, ?it/s]"
      ]
     },
     "metadata": {},
     "output_type": "display_data"
    },
    {
     "data": {
      "application/vnd.jupyter.widget-view+json": {
       "model_id": "8d3c0926b8ab426ca9712b4438729aad",
       "version_major": 2,
       "version_minor": 0
      },
      "text/plain": [
       "  0%|          | 0/100 [00:00<?, ?it/s]"
      ]
     },
     "metadata": {},
     "output_type": "display_data"
    },
    {
     "data": {
      "application/vnd.jupyter.widget-view+json": {
       "model_id": "5fff8ff8ce4246dcbdb2a1020e0df302",
       "version_major": 2,
       "version_minor": 0
      },
      "text/plain": [
       "  0%|          | 0/100 [00:00<?, ?it/s]"
      ]
     },
     "metadata": {},
     "output_type": "display_data"
    },
    {
     "data": {
      "application/vnd.jupyter.widget-view+json": {
       "model_id": "3602564831bf4461982448d4d25f8911",
       "version_major": 2,
       "version_minor": 0
      },
      "text/plain": [
       "  0%|          | 0/100 [00:00<?, ?it/s]"
      ]
     },
     "metadata": {},
     "output_type": "display_data"
    },
    {
     "data": {
      "application/vnd.jupyter.widget-view+json": {
       "model_id": "5661a707881f4a079f91120225a79d88",
       "version_major": 2,
       "version_minor": 0
      },
      "text/plain": [
       "  0%|          | 0/100 [00:00<?, ?it/s]"
      ]
     },
     "metadata": {},
     "output_type": "display_data"
    },
    {
     "data": {
      "application/vnd.jupyter.widget-view+json": {
       "model_id": "df6dc22ee95849e6a5e03898f48845dd",
       "version_major": 2,
       "version_minor": 0
      },
      "text/plain": [
       "  0%|          | 0/100 [00:00<?, ?it/s]"
      ]
     },
     "metadata": {},
     "output_type": "display_data"
    },
    {
     "data": {
      "application/vnd.jupyter.widget-view+json": {
       "model_id": "fc7099d18a4e4d6783176dc96819531b",
       "version_major": 2,
       "version_minor": 0
      },
      "text/plain": [
       "  0%|          | 0/100 [00:00<?, ?it/s]"
      ]
     },
     "metadata": {},
     "output_type": "display_data"
    },
    {
     "data": {
      "application/vnd.jupyter.widget-view+json": {
       "model_id": "830cab7de0d74a7bbdb3172d564c3943",
       "version_major": 2,
       "version_minor": 0
      },
      "text/plain": [
       "  0%|          | 0/100 [00:00<?, ?it/s]"
      ]
     },
     "metadata": {},
     "output_type": "display_data"
    },
    {
     "data": {
      "application/vnd.jupyter.widget-view+json": {
       "model_id": "be65fc3848e842c7b008fb7916c4578b",
       "version_major": 2,
       "version_minor": 0
      },
      "text/plain": [
       "  0%|          | 0/100 [00:00<?, ?it/s]"
      ]
     },
     "metadata": {},
     "output_type": "display_data"
    },
    {
     "data": {
      "application/vnd.jupyter.widget-view+json": {
       "model_id": "e1d844b246584ccfb484d2ea90936f7b",
       "version_major": 2,
       "version_minor": 0
      },
      "text/plain": [
       "  0%|          | 0/100 [00:00<?, ?it/s]"
      ]
     },
     "metadata": {},
     "output_type": "display_data"
    },
    {
     "data": {
      "application/vnd.jupyter.widget-view+json": {
       "model_id": "3a2331b6d4494ea580c5e4c18d513891",
       "version_major": 2,
       "version_minor": 0
      },
      "text/plain": [
       "  0%|          | 0/100 [00:00<?, ?it/s]"
      ]
     },
     "metadata": {},
     "output_type": "display_data"
    },
    {
     "data": {
      "application/vnd.jupyter.widget-view+json": {
       "model_id": "303169f373fa4779bbd25e231a458d66",
       "version_major": 2,
       "version_minor": 0
      },
      "text/plain": [
       "  0%|          | 0/100 [00:00<?, ?it/s]"
      ]
     },
     "metadata": {},
     "output_type": "display_data"
    },
    {
     "data": {
      "application/vnd.jupyter.widget-view+json": {
       "model_id": "d046d8f0df4949bdbc5e23a827f8f578",
       "version_major": 2,
       "version_minor": 0
      },
      "text/plain": [
       "  0%|          | 0/100 [00:00<?, ?it/s]"
      ]
     },
     "metadata": {},
     "output_type": "display_data"
    },
    {
     "data": {
      "application/vnd.jupyter.widget-view+json": {
       "model_id": "fc9599cd3a2a412fbffbd62bf9832f92",
       "version_major": 2,
       "version_minor": 0
      },
      "text/plain": [
       "  0%|          | 0/100 [00:00<?, ?it/s]"
      ]
     },
     "metadata": {},
     "output_type": "display_data"
    },
    {
     "data": {
      "application/vnd.jupyter.widget-view+json": {
       "model_id": "4ceb399ee0924345a4b0e28664abf5f9",
       "version_major": 2,
       "version_minor": 0
      },
      "text/plain": [
       "  0%|          | 0/100 [00:00<?, ?it/s]"
      ]
     },
     "metadata": {},
     "output_type": "display_data"
    }
   ],
   "source": [
    "df = []\n",
    "n_th = e.n\n",
    "n = 1\n",
    "while True:\n",
    "    e.n = n\n",
    "    valid = 0\n",
    "    for i in (pbar := tqdm(range(1, 101))):\n",
    "        estimate = e.estimate(0, 1)\n",
    "        df.append([n, estimate])\n",
    "        pbar.set_description(f\"valid_ratio = {valid / i:.2g}, n = {n}, estimate = {estimate}\")\n",
    "        if abs(estimate - e.epsilon) < e.gamma:\n",
    "            valid += 1\n",
    "    if valid / 100 >= e.delta:\n",
    "        break\n",
    "    n *= 2"
   ]
  },
  {
   "cell_type": "code",
   "execution_count": 57,
   "metadata": {},
   "outputs": [],
   "source": [
    "df = pd.DataFrame(df, columns=[\"n\", \"epsilon\"])"
   ]
  },
  {
   "cell_type": "code",
   "execution_count": 58,
   "metadata": {},
   "outputs": [
    {
     "data": {
      "text/plain": [
       "<matplotlib.legend.Legend at 0x7f048aa27ed0>"
      ]
     },
     "execution_count": 58,
     "metadata": {},
     "output_type": "execute_result"
    },
    {
     "data": {
      "image/png": "[encoded data removed]",
      "text/plain": [
       "<Figure size 640x480 with 1 Axes>"
      ]
     },
     "metadata": {},
     "output_type": "display_data"
    }
   ],
   "source": [
    "sns.lineplot(data=df, x=\"n\", y=\"epsilon\", label=r\"Estimated $\\tilde\\epsilon$ across 100 runs\")\n",
    "sns.scatterplot(data=df, x=\"n\", y=\"epsilon\", alpha=0.1)\n",
    "plt.axhspan(\n",
    "    e.epsilon - e.gamma,\n",
    "    e.epsilon + e.gamma,\n",
    "    color=\"orange\",\n",
    "    alpha=0.3,\n",
    "    label=r\"Span $\\epsilon \\pm \\gamma$\",\n",
    ")\n",
    "plt.axhline(y=e.epsilon, color=\"red\", linestyle=\"--\", label=r\"Actual $\\epsilon$\")\n",
    "plt.axvline(x=e.n, color=\"k\", linestyle=\"--\")\n",
    "plt.annotate(\n",
    "    \"Practical n\",\n",
    "    xy=(e.n, plt.ylim()[0]),\n",
    "    xytext=(-35, 15),\n",
    "    textcoords=\"offset points\",\n",
    "    ha=\"center\",\n",
    "    va=\"top\",\n",
    ")\n",
    "plt.axvline(x=n_th, color=\"k\", linestyle=\"--\")\n",
    "plt.annotate(\n",
    "    \"Theoretical n\",\n",
    "    xy=(n_th, plt.ylim()[0]),\n",
    "    xytext=(-40, 15),\n",
    "    textcoords=\"offset points\",\n",
    "    ha=\"center\",\n",
    "    va=\"top\",\n",
    ")\n",
    "plt.xscale(\"log\")\n",
    "plt.title(\"Truncated \" + e.mechanism.__class__.__name__.replace(\"Truncated\", \"\"))\n",
    "plt.legend()"
   ]
  }
 ],
 "metadata": {
  "kernelspec": {
   "display_name": ".venv",
   "language": "python",
   "name": "python3"
  },
  "language_info": {
   "codemirror_mode": {
    "name": "ipython",
    "version": 3
   },
   "file_extension": ".py",
   "mimetype": "text/x-python",
   "name": "python",
   "nbconvert_exporter": "python",
   "pygments_lexer": "ipython3",
   "version": "3.13.0"
  }
 },
 "nbformat": 4,
 "nbformat_minor": 2
}
